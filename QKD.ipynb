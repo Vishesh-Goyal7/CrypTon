{
  "nbformat": 4,
  "nbformat_minor": 0,
  "metadata": {
    "colab": {
      "provenance": []
    },
    "kernelspec": {
      "name": "python3",
      "display_name": "Python 3"
    },
    "language_info": {
      "name": "python"
    }
  },
  "cells": [
    {
      "cell_type": "markdown",
      "source": [
        "# Phase 1 : 24-08-2025 13:13:04\n",
        "\n",
        "Building and testing basic AES, DES Encryption"
      ],
      "metadata": {
        "id": "DQVYB1dUIJBp"
      }
    },
    {
      "cell_type": "code",
      "execution_count": 1,
      "metadata": {
        "colab": {
          "base_uri": "https://localhost:8080/"
        },
        "cellView": "form",
        "id": "CkucaUzBx29s",
        "outputId": "c2d55c89-3c4b-4f88-fb70-ea8a16a3b223"
      },
      "outputs": [
        {
          "output_type": "stream",
          "name": "stdout",
          "text": [
            "Collecting pycryptodome\n",
            "  Downloading pycryptodome-3.23.0-cp37-abi3-manylinux_2_17_x86_64.manylinux2014_x86_64.whl.metadata (3.4 kB)\n",
            "Downloading pycryptodome-3.23.0-cp37-abi3-manylinux_2_17_x86_64.manylinux2014_x86_64.whl (2.3 MB)\n",
            "\u001b[2K   \u001b[90m━━━━━━━━━━━━━━━━━━━━━━━━━━━━━━━━━━━━━━━━\u001b[0m \u001b[32m2.3/2.3 MB\u001b[0m \u001b[31m20.5 MB/s\u001b[0m eta \u001b[36m0:00:00\u001b[0m\n",
            "\u001b[?25hInstalling collected packages: pycryptodome\n",
            "Successfully installed pycryptodome-3.23.0\n"
          ]
        }
      ],
      "source": [
        "# @title 🧰 Setup and Installation for Phase 1\n",
        "\n",
        "!pip install pycryptodome"
      ]
    },
    {
      "cell_type": "code",
      "source": [
        "# @title 🔐 AES and DES Encryption and Decryption Module Creation\n",
        "\n",
        "from Crypto.Cipher import AES, DES\n",
        "from Crypto.Util.Padding import pad, unpad\n",
        "from Crypto.Random import get_random_bytes\n",
        "\n",
        "def aes_encrypt(plaintext, key):\n",
        "    cipher = AES.new(key, AES.MODE_CBC)\n",
        "    ct_bytes = cipher.encrypt(pad(plaintext.encode(), AES.block_size))\n",
        "    return cipher.iv + ct_bytes\n",
        "\n",
        "def aes_decrypt(ciphertext, key):\n",
        "    iv = ciphertext[:16]\n",
        "    ct = ciphertext[16:]\n",
        "    cipher = AES.new(key, AES.MODE_CBC, iv)\n",
        "    pt = unpad(cipher.decrypt(ct), AES.block_size)\n",
        "    return pt.decode()\n",
        "\n",
        "def des_encrypt(plaintext, key):\n",
        "    cipher = DES.new(key, DES.MODE_CBC)\n",
        "    ct_bytes = cipher.encrypt(pad(plaintext.encode(), DES.block_size))\n",
        "    return cipher.iv + ct_bytes\n",
        "\n",
        "def des_decrypt(ciphertext, key):\n",
        "    iv = ciphertext[:8]\n",
        "    ct = ciphertext[8:]\n",
        "    cipher = DES.new(key, DES.MODE_CBC, iv)\n",
        "    pt = unpad(cipher.decrypt(ct), DES.block_size)\n",
        "    return pt.decode()\n",
        "\n",
        "def encrypt_with_algo(plaintext, key, algorithm='AES'):\n",
        "    if algorithm == 'AES':\n",
        "        return aes_encrypt(plaintext, key)\n",
        "    elif algorithm == 'DES':\n",
        "        return des_encrypt(plaintext, key)\n",
        "    else:\n",
        "        raise ValueError(\"Unsupported algorithm\")\n",
        "\n",
        "def decrypt_with_algo(ciphertext, key, algorithm='AES'):\n",
        "    if algorithm == 'AES':\n",
        "        return aes_decrypt(ciphertext, key)\n",
        "    elif algorithm == 'DES':\n",
        "        return des_decrypt(ciphertext, key)\n",
        "    else:\n",
        "        raise ValueError(\"Unsupported algorithm\")"
      ],
      "metadata": {
        "cellView": "form",
        "id": "eP1YZ5y7IlNk"
      },
      "execution_count": 2,
      "outputs": []
    },
    {
      "cell_type": "code",
      "source": [
        "# @title Testing Phase 1\n",
        "\n",
        "# pt = input(\"Enter a text for encryption : \")\n",
        "# key = get_random_bytes(16)\n",
        "# ct_aes = encrypt_with_algo(pt, key, 'AES')\n",
        "# print(\"AES Encryption : \", ct_aes.hex())\n",
        "# print(\"AES Decryption : \", decrypt_with_algo(ct_aes, key, 'AES'))\n",
        "\n",
        "# key = get_random_bytes(8)\n",
        "# ct_des = encrypt_with_algo(pt, key, 'DES')\n",
        "# print(\"DES Encryption : \", ct_des.hex())\n",
        "# print(\"DES Decryption : \", decrypt_with_algo(ct_des, key, 'DES'))"
      ],
      "metadata": {
        "cellView": "form",
        "id": "gVEQ9etCJU_X"
      },
      "execution_count": 3,
      "outputs": []
    },
    {
      "cell_type": "markdown",
      "source": [
        "# Phase 2 : 24-08-2025 14:21:24\n",
        "\n",
        "Building and testing Quantum Key using QRNG"
      ],
      "metadata": {
        "id": "bavZqP-mLWXG"
      }
    },
    {
      "cell_type": "code",
      "source": [
        "# @title 🧰 Setup and Installation for Phase 2\n",
        "\n",
        "!pip install qiskit qiskit-aer --quiet"
      ],
      "metadata": {
        "colab": {
          "base_uri": "https://localhost:8080/"
        },
        "cellView": "form",
        "id": "2bsPJ50BL8kt",
        "outputId": "d3d5a270-0c0a-4960-c463-0f34ff158861"
      },
      "execution_count": 4,
      "outputs": [
        {
          "output_type": "stream",
          "name": "stdout",
          "text": [
            "\u001b[2K   \u001b[90m━━━━━━━━━━━━━━━━━━━━━━━━━━━━━━━━━━━━━━━━\u001b[0m \u001b[32m7.4/7.4 MB\u001b[0m \u001b[31m25.6 MB/s\u001b[0m eta \u001b[36m0:00:00\u001b[0m\n",
            "\u001b[2K   \u001b[90m━━━━━━━━━━━━━━━━━━━━━━━━━━━━━━━━━━━━━━━━\u001b[0m \u001b[32m12.4/12.4 MB\u001b[0m \u001b[31m27.8 MB/s\u001b[0m eta \u001b[36m0:00:00\u001b[0m\n",
            "\u001b[2K   \u001b[90m━━━━━━━━━━━━━━━━━━━━━━━━━━━━━━━━━━━━━━━━\u001b[0m \u001b[32m2.2/2.2 MB\u001b[0m \u001b[31m27.6 MB/s\u001b[0m eta \u001b[36m0:00:00\u001b[0m\n",
            "\u001b[2K   \u001b[90m━━━━━━━━━━━━━━━━━━━━━━━━━━━━━━━━━━━━━━━━\u001b[0m \u001b[32m49.5/49.5 kB\u001b[0m \u001b[31m2.7 MB/s\u001b[0m eta \u001b[36m0:00:00\u001b[0m\n",
            "\u001b[2K   \u001b[90m━━━━━━━━━━━━━━━━━━━━━━━━━━━━━━━━━━━━━━━━\u001b[0m \u001b[32m126.1/126.1 kB\u001b[0m \u001b[31m9.9 MB/s\u001b[0m eta \u001b[36m0:00:00\u001b[0m\n",
            "\u001b[?25h"
          ]
        }
      ]
    },
    {
      "cell_type": "code",
      "source": [
        "# @title 🔑 Generate Random Quantum Key\n",
        "\n",
        "from qiskit import QuantumCircuit\n",
        "from qiskit_aer.primitives import Sampler\n",
        "import numpy as np\n",
        "\n",
        "def generate_quantum_key(bits=128):\n",
        "    qc = QuantumCircuit(bits, bits)\n",
        "    qc.h(range(bits))\n",
        "    qc.measure(range(bits), range(bits))\n",
        "\n",
        "    # Use Aer Sampler to simulate and get outcome\n",
        "    sampler = Sampler()\n",
        "    result = sampler.run(qc).result()\n",
        "    counts = result.quasi_dists[0]\n",
        "\n",
        "    # Get the most probable bitstring\n",
        "    max_key = max(counts, key=counts.get)\n",
        "    bit_str = bin(max_key)[2:]\n",
        "\n",
        "    # Pad with leading zeros if necessary\n",
        "    if len(bit_str) < bits:\n",
        "        bit_str = '0' * (bits - len(bit_str)) + bit_str\n",
        "\n",
        "    # Convert to byte key\n",
        "    key_bytes = bytes(int(bit_str[i:i+8], 2) for i in range(0, bits, 8))\n",
        "    return key_bytes"
      ],
      "metadata": {
        "cellView": "form",
        "id": "O102zyhoMNmy"
      },
      "execution_count": 5,
      "outputs": []
    },
    {
      "cell_type": "code",
      "source": [
        "# @title 🧪 Test\n",
        "\n",
        "aes_key = generate_quantum_key(128)\n",
        "des_key = generate_quantum_key(64)\n",
        "# print(\"Quantum AES Key:\", key.hex(), \"| Length:\", len(key))"
      ],
      "metadata": {
        "colab": {
          "base_uri": "https://localhost:8080/"
        },
        "cellView": "form",
        "id": "vNsONmUAMTU7",
        "outputId": "9b4cf848-6167-4ec8-994f-fbcc294ac180"
      },
      "execution_count": 6,
      "outputs": [
        {
          "output_type": "stream",
          "name": "stderr",
          "text": [
            "/tmp/ipython-input-3945919019.py:3: DeprecationWarning: Sampler has been deprecated as of Aer 0.15, please use SamplerV2 instead.\n",
            "  aes_key = generate_quantum_key(128)\n",
            "/tmp/ipython-input-3945919019.py:4: DeprecationWarning: Sampler has been deprecated as of Aer 0.15, please use SamplerV2 instead.\n",
            "  des_key = generate_quantum_key(64)\n"
          ]
        }
      ]
    },
    {
      "cell_type": "code",
      "source": [
        "# @title ✅ Using Generated keys for AES and DES\n",
        "\n",
        "plaintext = \"I am unstoppable\"\n",
        "\n",
        "aes_ct = aes_encrypt(plaintext, aes_key)\n",
        "print(\"AES Key :\", aes_key.hex())\n",
        "print(\"AES Encrypted :\", aes_ct.hex())\n",
        "print(\"AES Decrypted :\", aes_decrypt(aes_ct, aes_key))\n",
        "\n",
        "des_ct = des_encrypt(plaintext, des_key)\n",
        "print(\"dES Key :\", des_key.hex())\n",
        "print(\"dES Encrypted :\", des_ct.hex())\n",
        "print(\"dES Decrypted :\", des_decrypt(des_ct, des_key))"
      ],
      "metadata": {
        "colab": {
          "base_uri": "https://localhost:8080/"
        },
        "cellView": "form",
        "id": "suF6HXaGM52i",
        "outputId": "c506edb1-7ee5-412c-9a63-d701285fe188"
      },
      "execution_count": 7,
      "outputs": [
        {
          "output_type": "stream",
          "name": "stdout",
          "text": [
            "AES Key : 5afe2c4d3b244a2f84852d718051f786\n",
            "AES Encrypted : 3cf5641aded8f4986222a9839e6eab6a13091b688fe01ba139d94bbc62c87701db48f40736a3afc25b02115fb71dc9d1\n",
            "AES Decrypted : I am unstoppable\n",
            "dES Key : b3304ba279a79ea3\n",
            "dES Encrypted : 699e738cb65cfee63dde9cbe8525b0f0b8a41fffe4502e4eed2f446c3b885b8a\n",
            "dES Decrypted : I am unstoppable\n"
          ]
        }
      ]
    },
    {
      "cell_type": "markdown",
      "source": [
        "# Phase 3 : 24-08-2025 14:47:11\n",
        "\n",
        "Simulating BB84 protocol for secure key agreement"
      ],
      "metadata": {
        "id": "YlFQkyfgUo7p"
      }
    },
    {
      "cell_type": "code",
      "source": [
        "# @title Basic 🅱️🅱️𝟾𝟺 Code\n",
        "\n",
        "import numpy as np\n",
        "\n",
        "def random_bitstring(length):\n",
        "    return np.random.randint(2, size=length)\n",
        "\n",
        "def random_bases(length):\n",
        "    return np.random.randint(2, size=length)\n",
        "\n",
        "def encode_qubits(bits, bases):\n",
        "    encoded = []\n",
        "    for bit, basis in zip(bits, bases):\n",
        "        qc = QuantumCircuit(1, 1)\n",
        "        if bit == 1:\n",
        "            qc.x(0)\n",
        "        if basis == 1:\n",
        "            qc.h(0)\n",
        "        encoded.append(qc)\n",
        "    return encoded"
      ],
      "metadata": {
        "cellView": "form",
        "id": "Tw22YUa5VBBR"
      },
      "execution_count": 8,
      "outputs": []
    },
    {
      "cell_type": "code",
      "source": [
        "# @title ↔️ Transmission attempt\n",
        "\n",
        "from qiskit import QuantumCircuit\n",
        "from qiskit_aer import AerSimulator\n",
        "from qiskit import transpile\n",
        "\n",
        "def measure_qubits(qubits, bases, eve_present=False):\n",
        "    backend = AerSimulator()\n",
        "    measurements = []\n",
        "\n",
        "    for i, qc in enumerate(qubits):\n",
        "        circuit = qc.copy()\n",
        "\n",
        "        if eve_present:\n",
        "            eve_basis = np.random.randint(2)\n",
        "            if eve_basis == 1:\n",
        "                circuit.h(0)\n",
        "            circuit.measure(0, 0)\n",
        "\n",
        "            transpiled = transpile(circuit, backend)\n",
        "            result = backend.run(transpiled, shots=1, memory=True).result()\n",
        "            intercepted_bit = int(result.get_memory()[0])\n",
        "\n",
        "            circuit = QuantumCircuit(1, 1)\n",
        "            if intercepted_bit == 1:\n",
        "                circuit.x(0)\n",
        "            if bases[i] == 1:\n",
        "                circuit.h(0)\n",
        "\n",
        "        if bases[i] == 1:\n",
        "            circuit.h(0)\n",
        "        circuit.measure(0, 0)\n",
        "\n",
        "        transpiled = transpile(circuit, backend)\n",
        "        result = backend.run(transpiled, shots=1, memory=True).result()\n",
        "        bit = int(result.get_memory()[0])\n",
        "        measurements.append(bit)\n",
        "\n",
        "    return measurements"
      ],
      "metadata": {
        "cellView": "form",
        "id": "zdx9xcomXBBk"
      },
      "execution_count": 9,
      "outputs": []
    },
    {
      "cell_type": "code",
      "source": [
        "# @title Key Sifting and Comparison\n",
        "\n",
        "def sift_keys(alice_bits, alice_bases, bob_bits, bob_bases):\n",
        "    sifted_alice = []\n",
        "    sifted_bob = []\n",
        "    for i in range(len(alice_bits)):\n",
        "        if alice_bases[i] == bob_bases[i]:\n",
        "            sifted_alice.append(alice_bits[i])\n",
        "            sifted_bob.append(bob_bits[i])\n",
        "\n",
        "    return [int(x) for x in sifted_alice], sifted_bob"
      ],
      "metadata": {
        "cellView": "form",
        "id": "arEXmT1rXek8"
      },
      "execution_count": 10,
      "outputs": []
    },
    {
      "cell_type": "code",
      "source": [
        "# @title 🎓 Full Demo\n",
        "\n",
        "def demo(eve = False, n_bits=256, min_key_len=10):\n",
        "    alice_bits = random_bitstring(n_bits)\n",
        "    alice_bases = random_bases(n_bits)\n",
        "    bob_bases = random_bases(n_bits)\n",
        "\n",
        "    qubits = encode_qubits(alice_bits, alice_bases)\n",
        "\n",
        "    bob_bits = measure_qubits(qubits, bob_bases, eve)\n",
        "\n",
        "    alice_key, bob_key = sift_keys(alice_bits, alice_bases, bob_bits, bob_bases)\n",
        "\n",
        "    # print(\"Alice Key:\", alice_key)\n",
        "    # print(\"Bob Key:  \", bob_key)\n",
        "\n",
        "    key_len = len(alice_key)\n",
        "\n",
        "    if key_len < min_key_len:\n",
        "        # signal caller to retry this trial (too little data to judge)\n",
        "        return None  # meaning \"skip\"\n",
        "\n",
        "    error_bits = sum(a != b for a, b in zip(alice_key, bob_key))\n",
        "    error_rate = error_bits / key_len\n",
        "\n",
        "    # print(f\"\\nKey Length: {len(alice_key)}\")\n",
        "    # print(f\"Error Rate: {error_rate:.2%} {'❌ (Eve detected)' if error_rate > 0.25 else '✅ (Secure)'}\")\n",
        "\n",
        "    return error_rate"
      ],
      "metadata": {
        "cellView": "form",
        "id": "k7Xq8wm5XlYn"
      },
      "execution_count": 11,
      "outputs": []
    },
    {
      "cell_type": "code",
      "source": [
        "# @title 📝 Repeated testing with threshold + retries\n",
        "\n",
        "# import random\n",
        "\n",
        "# trials = int(input(\"Enter number of trials : \"))\n",
        "# n_bits = 100                 # more stable than 50\n",
        "# threshold = 0.15             # 0.25 theoretical; margin for finite-sample noise\n",
        "# min_key_len = 10\n",
        "# max_retries_per_trial = 3    # in case sifted key is too short\n",
        "\n",
        "# true_eve = false_eve = false_not_eve = true_not_eve = 0\n",
        "# skipped = 0\n",
        "\n",
        "# for i in range(trials):\n",
        "#     # Try to get a usable trial (enough sifted bits)\n",
        "#     print(\"Starting \", i)\n",
        "#     for attempt in range(max_retries_per_trial):\n",
        "#         eve = random.choice([True, False])\n",
        "#         error_rate = demo(eve=eve, n_bits=n_bits, min_key_len=min_key_len)\n",
        "#         if error_rate is not None:\n",
        "#             break\n",
        "#     else:\n",
        "#         skipped += 1\n",
        "#         print(\"Trying \", i, \" \", attempt, \" time.\")\n",
        "#         continue  # couldn’t get a usable key; skip this trial\n",
        "\n",
        "#     detected = (error_rate >= threshold)\n",
        "\n",
        "#     if eve and detected:\n",
        "#         true_eve += 1\n",
        "#     elif eve and not detected:\n",
        "#         false_eve += 1\n",
        "#     elif (not eve) and detected:\n",
        "#         false_not_eve += 1\n",
        "#     else:\n",
        "#         true_not_eve += 1\n",
        "\n",
        "# print(\"Eve present & correctly flagged (TP):  \", true_eve)\n",
        "# print(\"Eve present & missed (FN):             \", false_eve)\n",
        "# print(\"No Eve but flagged (FP):               \", false_not_eve)\n",
        "# print(\"No Eve & not flagged (TN):             \", true_not_eve)\n",
        "# print(\"Skipped trials (short keys):           \", skipped)\n",
        "\n",
        "# total = true_eve + false_eve + false_not_eve + true_not_eve\n",
        "# if total > 0:\n",
        "#     accuracy = round((true_eve + true_not_eve) / total * 100, 2)\n",
        "#     print(\"Correct Identification: \", accuracy, \"%\")\n",
        "# else:\n",
        "#     print(\"No usable trials (all skipped). Try increasing n_bits or retries.\")"
      ],
      "metadata": {
        "id": "PZUARuGFbEHG",
        "cellView": "form"
      },
      "execution_count": 12,
      "outputs": []
    },
    {
      "cell_type": "markdown",
      "source": [
        "# Phase 4 : 24-08-2025 21:14:22\n",
        "\n",
        "Encryption and Decryption using quantum keys as declared in Phase 3 with AES and DES modules in Phase 1"
      ],
      "metadata": {
        "id": "xu6vWBBFzdvE"
      }
    },
    {
      "cell_type": "code",
      "source": [
        "# @title 😣 BB84 Helpers\n",
        "\n",
        "def random_bitstring(n):\n",
        "    return np.random.randint(2, size=n).tolist()\n",
        "\n",
        "def random_bases(n):      # 0 = Z basis, 1 = X basis\n",
        "    return np.random.randint(2, size=n).tolist()\n",
        "\n",
        "def encode_qubits(bits, bases):\n",
        "    \"\"\"Build one-qubit circuits per bit with chosen basis.\"\"\"\n",
        "    circuits = []\n",
        "    for bit, basis in zip(bits, bases):\n",
        "        qc = QuantumCircuit(1, 1)\n",
        "        if bit == 1:     # prepare |1>\n",
        "            qc.x(0)\n",
        "        if basis == 1:   # switch to X basis (|+>, |->)\n",
        "            qc.h(0)\n",
        "        circuits.append(qc)\n",
        "    return circuits\n",
        "\n",
        "def measure_qubits(qubits, bob_bases, eve_present=False):\n",
        "    \"\"\"\n",
        "    Bob measures each received qubit in his chosen basis.\n",
        "    Optional Eve: intercepts (random basis), measures, then resends in HER basis,\n",
        "    which statistically induces ~25% errors after sifting.\n",
        "    \"\"\"\n",
        "    backend = AerSimulator()\n",
        "    out_bits = []\n",
        "\n",
        "    for i, prep in enumerate(qubits):\n",
        "        circuit = prep.copy()\n",
        "\n",
        "        if eve_present:\n",
        "            # Eve chooses a random basis and measures\n",
        "            eve_basis = np.random.randint(2)\n",
        "            eve_circ = circuit.copy()\n",
        "            if eve_circ.num_clbits == 0:\n",
        "                eve_circ.add_register(*QuantumCircuit(1,1).cregs)\n",
        "            if eve_basis == 1:\n",
        "                eve_circ.h(0)\n",
        "            eve_circ.measure(0, 0)\n",
        "            tr = transpile(eve_circ, backend)\n",
        "            res = backend.run(tr, shots=1, memory=True).result()\n",
        "            intercepted = int(res.get_memory()[0])\n",
        "\n",
        "            # Eve resends in the basis she measured\n",
        "            circuit = QuantumCircuit(1, 1)\n",
        "            if intercepted == 1: circuit.x(0)\n",
        "            if eve_basis == 1:    circuit.h(0)\n",
        "\n",
        "        # Bob applies his basis and measures\n",
        "        if circuit.num_clbits == 0:\n",
        "            circuit.add_register(*QuantumCircuit(1,1).cregs)\n",
        "        if bob_bases[i] == 1:\n",
        "            circuit.h(0)\n",
        "        circuit.measure(0, 0)\n",
        "\n",
        "        trb = transpile(circuit, backend)\n",
        "        resb = backend.run(trb, shots=1, memory=True).result()\n",
        "        bit = int(resb.get_memory()[0])\n",
        "        out_bits.append(bit)\n",
        "\n",
        "    return out_bits\n",
        "\n",
        "def sift_keys(alice_bits, alice_bases, bob_bits, bob_bases):\n",
        "    \"\"\"Keep positions where bases match.\"\"\"\n",
        "    idx = [i for i in range(len(alice_bits)) if alice_bases[i] == bob_bases[i]]\n",
        "    a_sift = [alice_bits[i] for i in idx]\n",
        "    b_sift = [bob_bits[i]  for i in idx]\n",
        "    return a_sift, b_sift, idx"
      ],
      "metadata": {
        "cellView": "form",
        "id": "CRL9_p94z4I4"
      },
      "execution_count": 13,
      "outputs": []
    },
    {
      "cell_type": "code",
      "source": [
        "# @title 🗝️ Short Key Handling\n",
        "\n",
        "def get_bb84_key(target_bits=128, n_per_round=256, qber_cutoff=0.11,\n",
        "                 max_rounds=20, eve_present=False, verbose=True):\n",
        "    \"\"\"\n",
        "    Repeats BB84 rounds until we collect at least `target_bits` sifted, low-QBER bits.\n",
        "    - qber_cutoff ~ 11% is a practical threshold (abort round if higher).\n",
        "    - If Eve is present (True), rounds will be discarded due to high QBER.\n",
        "    \"\"\"\n",
        "    collected = []\n",
        "    last_qber = None\n",
        "\n",
        "    for r in range(1, max_rounds+1):\n",
        "        # Alice & Bob choose bits/bases\n",
        "        alice_bits  = random_bitstring(n_per_round)\n",
        "        alice_bases = random_bases(n_per_round)\n",
        "        bob_bases   = random_bases(n_per_round)\n",
        "\n",
        "        # Alice encodes; channel → Bob measures (optionally with Eve)\n",
        "        qubits  = encode_qubits(alice_bits, alice_bases)\n",
        "        bob_bits = measure_qubits(qubits, bob_bases, eve_present=eve_present)\n",
        "\n",
        "        # Sift and compute QBER (exact here; in practice you'd sample)\n",
        "        a_sift, b_sift, _ = sift_keys(alice_bits, alice_bases, bob_bits, bob_bases)\n",
        "        if len(a_sift) == 0:\n",
        "            if verbose: print(f\"Round {r}: no matches (unlikely).\")\n",
        "            continue\n",
        "        errors = sum(int(a != b) for a, b in zip(a_sift, b_sift))\n",
        "        qber = errors / len(a_sift)\n",
        "        last_qber = qber\n",
        "\n",
        "        if verbose:\n",
        "            print(f\"Round {r}: sifted={len(a_sift)} bits, QBER={qber:.2%}\")\n",
        "\n",
        "        if qber > qber_cutoff:\n",
        "            if verbose: print(\"  > Discarded: QBER above cutoff.\")\n",
        "            continue   # throw away this round (possible Eve / noisy)\n",
        "\n",
        "        collected.extend(a_sift)  # a_sift and b_sift match closely if QBER low\n",
        "        if len(collected) >= target_bits:\n",
        "            return collected[:target_bits], {\"rounds_used\": r, \"qber_last\": last_qber, \"sifted_total\": len(collected)}\n",
        "\n",
        "    raise RuntimeError(\"Insufficient secure bits. Increase n_per_round/max_rounds or relax qber_cutoff.\")"
      ],
      "metadata": {
        "cellView": "form",
        "id": "7D3P8hcn0sSY"
      },
      "execution_count": 14,
      "outputs": []
    },
    {
      "cell_type": "code",
      "source": [
        "# @title 🧑‍🔬 Converting bits to bytes\n",
        "\n",
        "def bits_to_bytes(bit_list):\n",
        "    n = len(bit_list) - (len(bit_list) % 8)  # truncate to full bytes\n",
        "    bit_list = bit_list[:n]\n",
        "    by = bytes(int(''.join(map(str, bit_list[i:i+8])), 2) for i in range(0, n, 8))\n",
        "    return by\n",
        "\n",
        "def get_aes_key_from_bb84(bits=128, **bb84_kwargs):\n",
        "    bit_list, meta = get_bb84_key(target_bits=bits, **bb84_kwargs)\n",
        "    key = bits_to_bytes(bit_list)\n",
        "    if len(key) != bits // 8:\n",
        "        raise ValueError(\"Did not produce exact AES key length.\")\n",
        "    return key, meta\n",
        "\n",
        "def get_des_key_from_bb84(bits=64, **bb84_kwargs):\n",
        "    bit_list, meta = get_bb84_key(target_bits=bits, **bb84_kwargs)\n",
        "    key = bits_to_bytes(bit_list)\n",
        "    if len(key) != bits // 8:\n",
        "        raise ValueError(\"Did not produce exact DES key length.\")\n",
        "    return key, meta"
      ],
      "metadata": {
        "cellView": "form",
        "id": "ZzLICqHD0xpF"
      },
      "execution_count": 15,
      "outputs": []
    },
    {
      "cell_type": "code",
      "source": [
        "# @title 🔐 Encrypt AES and DES using quantum keys\n",
        "\n",
        "def aes_encrypt(plaintext, key):\n",
        "    cipher = AES.new(key, AES.MODE_CBC)\n",
        "    ct = cipher.encrypt(pad(plaintext.encode(), AES.block_size))\n",
        "    return cipher.iv + ct\n",
        "\n",
        "def aes_decrypt(ciphertext, key):\n",
        "    iv, ct = ciphertext[:16], ciphertext[16:]\n",
        "    cipher = AES.new(key, AES.MODE_CBC, iv)\n",
        "    return unpad(cipher.decrypt(ct), AES.block_size).decode()\n",
        "\n",
        "def des_encrypt(plaintext, key):\n",
        "    cipher = DES.new(key, DES.MODE_CBC)\n",
        "    ct = cipher.encrypt(pad(plaintext.encode(), DES.block_size))\n",
        "    return cipher.iv + ct\n",
        "\n",
        "def des_decrypt(ciphertext, key):\n",
        "    iv, ct = ciphertext[:8], ciphertext[8:]\n",
        "    cipher = DES.new(key, DES.MODE_CBC, iv)\n",
        "    return unpad(cipher.decrypt(ct), DES.block_size).decode()"
      ],
      "metadata": {
        "cellView": "form",
        "id": "kzx999Ll1BnB"
      },
      "execution_count": 16,
      "outputs": []
    },
    {
      "cell_type": "code",
      "source": [
        "# @title 🧪 Testing the things\n",
        "\n",
        "# Toggle Eve to see keygen fail (or rounds discarded)\n",
        "EVE = True   # set True to observe high QBER blocks\n",
        "\n",
        "# Generate AES‑128 key via BB84 (will automatically run multiple rounds if needed)\n",
        "aes_key, meta_aes = get_aes_key_from_bb84(\n",
        "    bits=128, n_per_round=256, qber_cutoff=0.11, max_rounds=20, eve_present=EVE, verbose=True\n",
        ")\n",
        "print(\"\\nAES key (hex):\", aes_key.hex())\n",
        "print(\"Meta:\", meta_aes)\n",
        "\n",
        "pt = input(\"Enter a plain text for testing the AES and DES encryption and decryption using Quantum Keys : \")\n",
        "ct = aes_encrypt(pt, aes_key)\n",
        "rt = aes_decrypt(ct, aes_key)\n",
        "print(\"\\nAES plaintext: \", pt)\n",
        "print(\"\\nAES key      : \", aes_key.hex())\n",
        "print(\"\\nAES Ciphered : \", ct.hex())\n",
        "print(\"\\nAES Decrypt  : \", rt)\n",
        "print(\"AES roundtrip ok:\", rt == pt)\n",
        "\n",
        "# (Optional) DES demo\n",
        "des_key, meta_des = get_des_key_from_bb84(\n",
        "    bits=64, n_per_round=256, qber_cutoff=0.11, max_rounds=20, eve_present=EVE, verbose=False\n",
        ")\n",
        "print(\"\\nDES key (hex):\", des_key.hex())\n",
        "ct2 = des_encrypt(pt, des_key)\n",
        "rt2 = des_decrypt(ct2, des_key)\n",
        "print(\"\\nDES plaintext: \", pt)\n",
        "print(\"\\nDES key      : \", des_key.hex())\n",
        "print(\"\\nDES Ciphered : \", ct2.hex())\n",
        "print(\"\\nDES Decrypt  : \", rt2)\n",
        "print(\"DES roundtrip ok:\", rt2 == pt)"
      ],
      "metadata": {
        "colab": {
          "base_uri": "https://localhost:8080/"
        },
        "id": "3Wdn0nIQ1lSz",
        "outputId": "20bf99b4-f49b-47fe-eb75-204c8cd96c92"
      },
      "execution_count": null,
      "outputs": [
        {
          "output_type": "stream",
          "name": "stdout",
          "text": [
            "Round 1: sifted=137 bits, QBER=28.47%\n",
            "  > Discarded: QBER above cutoff.\n",
            "Round 2: sifted=121 bits, QBER=20.66%\n",
            "  > Discarded: QBER above cutoff.\n",
            "Round 3: sifted=135 bits, QBER=20.00%\n",
            "  > Discarded: QBER above cutoff.\n",
            "Round 4: sifted=147 bits, QBER=34.01%\n",
            "  > Discarded: QBER above cutoff.\n",
            "Round 5: sifted=117 bits, QBER=17.95%\n",
            "  > Discarded: QBER above cutoff.\n",
            "Round 6: sifted=132 bits, QBER=27.27%\n",
            "  > Discarded: QBER above cutoff.\n"
          ]
        }
      ]
    }
  ]
}